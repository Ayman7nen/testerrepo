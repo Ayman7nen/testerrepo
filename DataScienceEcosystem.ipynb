{
 "cells": [
  {
   "cell_type": "markdown",
   "id": "e6de6c08-1377-4d42-92c6-5f801bb4611d",
   "metadata": {},
   "source": [
    "# Data Science Tools and Ecosystem"
   ]
  },
  {
   "cell_type": "markdown",
   "id": "5de2313f-c857-4bcc-a1be-83cc69659a41",
   "metadata": {},
   "source": [
    "#### In this Notebook Data Science tools and Ecosystem are summarized"
   ]
  },
  {
   "cell_type": "markdown",
   "id": "e93b108b-7350-4c30-8192-e43263b6e4ee",
   "metadata": {},
   "source": [
    "### **Objectives** \n",
    "- list of popular languages used by data scientists\n",
    "- the most common libraries \n",
    "- arithmetic example"
   ]
  },
  {
   "cell_type": "markdown",
   "id": "42db3d15-6d70-4132-83d8-9353bc63e83f",
   "metadata": {},
   "source": [
    "some of the popular languages that data scientists use are\n",
    "1. R\n",
    "1. Python\n",
    "1. Java\n",
    "1. ++C"
   ]
  },
  {
   "cell_type": "markdown",
   "id": "a99842ee-2c7d-42eb-bcc4-69e067624c85",
   "metadata": {},
   "source": [
    "Some of the commonly used libraries used by Data Scientists include:\n",
    "1. Panda\n",
    "1. TensorFlow\n",
    "1. NumPy"
   ]
  },
  {
   "cell_type": "markdown",
   "id": "a3f652a1-a238-44be-9422-a801369ec043",
   "metadata": {},
   "source": [
    "| Data Sceince Tools |\n",
    "|-----|\n",
    "|IBM Watson Studio|\n",
    "|Sheets|\n",
    "|R|\n",
    "|Tableau|"
   ]
  },
  {
   "cell_type": "markdown",
   "id": "11307747-e04f-4680-a2cf-9e8a2a1b2798",
   "metadata": {},
   "source": [
    "### Below are a few examples of evaluating arithmetic expressions in Python"
   ]
  },
  {
   "cell_type": "code",
   "execution_count": 6,
   "id": "2ab66fc6-6c87-4d6d-876f-d1985c9ede98",
   "metadata": {},
   "outputs": [
    {
     "data": {
      "text/plain": [
       "17"
      ]
     },
     "execution_count": 6,
     "metadata": {},
     "output_type": "execute_result"
    }
   ],
   "source": [
    "## This a simple arithmetic expression to mutiply then add integers\n",
    "3*4+5"
   ]
  },
  {
   "cell_type": "code",
   "execution_count": 7,
   "id": "1c717dab-04bf-4b51-a364-0a5c8717e1db",
   "metadata": {},
   "outputs": [
    {
     "data": {
      "text/plain": [
       "3.3333333333333335"
      ]
     },
     "execution_count": 7,
     "metadata": {},
     "output_type": "execute_result"
    }
   ],
   "source": [
    "## This will convert 200 minutes to hours by diving by 60\n",
    "200/60"
   ]
  },
  {
   "cell_type": "markdown",
   "id": "4bc3b921-045d-4c10-b0ce-f2a6260b9a14",
   "metadata": {
    "tags": []
   },
   "source": [
    "## Author\n",
    "#### Ayman Henein Malak"
   ]
  },
  {
   "cell_type": "code",
   "execution_count": null,
   "id": "4b5fed4b-dd26-4de4-b3fb-d03a10859d07",
   "metadata": {},
   "outputs": [],
   "source": []
  }
 ],
 "metadata": {
  "kernelspec": {
   "display_name": "Python",
   "language": "python",
   "name": "conda-env-python-py"
  },
  "language_info": {
   "codemirror_mode": {
    "name": "ipython",
    "version": 3
   },
   "file_extension": ".py",
   "mimetype": "text/x-python",
   "name": "python",
   "nbconvert_exporter": "python",
   "pygments_lexer": "ipython3",
   "version": "3.7.12"
  }
 },
 "nbformat": 4,
 "nbformat_minor": 5
}
